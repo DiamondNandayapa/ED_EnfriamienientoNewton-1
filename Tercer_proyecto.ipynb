{
 "cells": [
  {
   "cell_type": "markdown",
   "metadata": {},
   "source": [
    "<img style=\"float: center\" src=\"https://arrupesj.files.wordpress.com/2015/06/4.jpg\" width=\"350px\" height=\"125px\" />\n",
    "\n",
    "\n",
    "# $$Proyecto$$\n",
    "### $$Ley de enfriamiento deNewton. $$\n",
    "#### $$Profesor: Carlos Arellano Muro$$\n",
    "#### $$Equipo: $$\n",
    "#### $$Diamante del Cielo Gutierrez Nandayapa - nt709910$$\n",
    "#### $$Isaura Rodriguez Navarro - nt713994$$\n",
    "##### $$Fecha: 03 de diciembre de 2020$$"
   ]
  },
  {
   "cell_type": "markdown",
   "metadata": {},
   "source": [
    "### Objetivos\n",
    "> #### 1.1 Objetivos generales.\n",
    ">  - Aplicar los conocimientos aprendidos en la materia en resolución de ecuaciones diferenciales.\n",
    ">  - Comprender la Ley de enfriamiento de Newton\n",
    "\n",
    "> #### 1.1 Objetivos específicos.#\n",
    "\n",
    ">  - Obtener la solución analítica utilizando la librería sympy\n",
    ">  - Obtener la solución númerica \n",
    ">  - Interpretar los resultados obtenidos."
   ]
  },
  {
   "cell_type": "markdown",
   "metadata": {},
   "source": [
    "## $$Planteamiento$$"
   ]
  },
  {
   "cell_type": "markdown",
   "metadata": {},
   "source": [
    "La razón de cambio de temperatura de un objetivo, es proporcional a la difrencia de su temperatura y la del ambiente.\n",
    "\n",
    "$T(t)$: Temperatura del objeto en t\n",
    "\n",
    "$T_A$: Temperatura Ambiente (constante)\n",
    "\n",
    "$T'(t)$ : Razón de cambio de la temperatura  \n",
    "\n",
    "$$T'(t) = k(T(t)-T_A)$$\n",
    "\n",
    "$$T'=k(T-T_A)$$\n",
    "\n",
    "\\begin{equation}\n",
    "\\frac{dT}{dt} = {k}(T-T_A)\n",
    "\\end{equation}\n",
    "\n",
    "Donde:\n",
    "\n",
    "\n",
    "$T$ es la temperatura del objeto a analizar\n",
    "\n",
    "$T_A$ es la temperatura del medio que lo rodea \n",
    "\n",
    "$k$ representa la constante de la proporcionalidad del cambio entre $T$ y $T_A$\n"
   ]
  },
  {
   "cell_type": "code",
   "execution_count": 25,
   "metadata": {},
   "outputs": [],
   "source": [
    "import sympy as sp\n",
    "from scipy.integrate import solve_ivp\n",
    "import matplotlib.pyplot as plt\n",
    "import numpy as np\n",
    "from ipywidgets import *"
   ]
  },
  {
   "cell_type": "markdown",
   "metadata": {},
   "source": [
    " **Se obtiene la solución analítica**"
   ]
  },
  {
   "cell_type": "code",
   "execution_count": 31,
   "metadata": {},
   "outputs": [
    {
     "data": {
      "text/latex": [
       "$\\displaystyle T{\\left(t \\right)} = C_{1} e^{k t} + Ta$"
      ],
      "text/plain": [
       "Eq(T(t), C1*exp(k*t) + Ta)"
      ]
     },
     "execution_count": 31,
     "metadata": {},
     "output_type": "execute_result"
    }
   ],
   "source": [
    "sp.var('t') \n",
    "sp.var('k')\n",
    "sp.var('Ta')\n",
    "T=sp.Function('T')\n",
    "eq=sp.Derivative(T(t),t)-k*(T(t)-Ta) \n",
    "solucion=sp.dsolve(eq,T(t))\n",
    "solucion"
   ]
  },
  {
   "cell_type": "markdown",
   "metadata": {},
   "source": [
    "##### Se caliente una placa expuesta al Sol\n",
    "\n",
    "Intensidad de la radiación solar  I=700  $ \\frac{W}{m^2}\\; $ \n",
    "\n",
    "Temperatura ambiente $T0=20°C$\n",
    "\n",
    "Espesor de la placa $g=2 mm$\n",
    "\n",
    "Material aluminio: ρ=2700 $\\frac{kg}{m^3}\\;$ y c=880 $\\frac{J}{kg°C}\\;$\n",
    "\n",
    "Se ilumina la placa, al cabo de $1200 s$ alcanza una temperatura de $T_f=71.3 °C$\n",
    "\n",
    "Se deja de iluminar la placa, se pone el contador de tiempo a cero, y al cabo de $t=1000 s$ la temperatura ha bajado a $23.2 °C$\n",
    "\n",
    "Conocida la temperatura inicial $T_f =71.3°C$ y al cabo de un tiempo $t=1000 s$, $T=23.2°C$ durante el enfriamiento calculamos la constante $k$."
   ]
  },
  {
   "cell_type": "markdown",
   "metadata": {},
   "source": [
    "Se obtiene la siguiente ecuación:\n",
    "\n",
    "T(t)= $T_0$ + ($T_f$-$T_0$) $e^{-kt}$\n",
    "\n",
    "se despeja la k y se obtiene:\n",
    "\n",
    "$k$=$\\frac{ln\\frac{T(t)-T_0}{T_f-T_0}}{-t}$"
   ]
  },
  {
   "cell_type": "code",
   "execution_count": 5,
   "metadata": {},
   "outputs": [],
   "source": [
    "T=23.20\n",
    "T0=20\n",
    "Tf=71.3\n",
    "t=1000"
   ]
  },
  {
   "cell_type": "code",
   "execution_count": 6,
   "metadata": {},
   "outputs": [],
   "source": [
    "def C1(T0,Tf):\n",
    "    return (Tf-T0)"
   ]
  },
  {
   "cell_type": "code",
   "execution_count": 7,
   "metadata": {},
   "outputs": [
    {
     "data": {
      "text/plain": [
       "51.3"
      ]
     },
     "execution_count": 7,
     "metadata": {},
     "output_type": "execute_result"
    }
   ],
   "source": [
    "C1(20,71.3)"
   ]
  },
  {
   "cell_type": "code",
   "execution_count": 27,
   "metadata": {},
   "outputs": [],
   "source": [
    "def K(T,Tf,t,T0):\n",
    "    C1=(Tf-T0)\n",
    "    return (np.log((T-T0)/C1))/-t"
   ]
  },
  {
   "cell_type": "code",
   "execution_count": 28,
   "metadata": {},
   "outputs": [
    {
     "data": {
      "text/plain": [
       "0.002774539942371043"
      ]
     },
     "execution_count": 28,
     "metadata": {},
     "output_type": "execute_result"
    }
   ],
   "source": [
    "K(23.20,71.3,1000,20)"
   ]
  },
  {
   "cell_type": "code",
   "execution_count": 29,
   "metadata": {},
   "outputs": [
    {
     "data": {
      "text/latex": [
       "$\\displaystyle T{\\left(t \\right)} = 20 + 51.3 e^{- 0.0028 t}$"
      ],
      "text/plain": [
       "Eq(T(t), 20 + 51.3*exp(-0.0028*t))"
      ]
     },
     "execution_count": 29,
     "metadata": {},
     "output_type": "execute_result"
    }
   ],
   "source": [
    "sp.var('t')\n",
    "k=0.0028\n",
    "Ta=20\n",
    "C1=(Tf-T0)\n",
    "solucion.subs('C1',C1).subs('Ta',Ta).subs('k',-k)"
   ]
  },
  {
   "cell_type": "markdown",
   "metadata": {},
   "source": [
    "En que momento la temperatura se encontró a $50 °C$ en la placa de aluminio\n",
    "\n",
    "Se obtiene la siguiente ecuación:\n",
    "\n",
    "T(t)= $T_0$ + ($T_f$-$T_0$) $e^{-kt}$\n",
    "\n",
    "se despeja la k y se obtiene:\n",
    "\n",
    "$t$ = $\\frac{-1}{k}$$ln\\frac{T(t)-T_0}{T_f-T_0}$"
   ]
  },
  {
   "cell_type": "code",
   "execution_count": 22,
   "metadata": {},
   "outputs": [],
   "source": [
    "k=0.0028\n",
    "T=50\n",
    "T0=20\n",
    "Tf=71.3\n",
    "def t(T,Tf,k,T0):\n",
    "    C1=(Tf-T0)\n",
    "    d=-(1/k)\n",
    "    t=(np.log((T-T0)/C1))*d\n",
    "    return t"
   ]
  },
  {
   "cell_type": "code",
   "execution_count": 23,
   "metadata": {},
   "outputs": [
    {
     "data": {
      "text/plain": [
       "191.60477518377442"
      ]
     },
     "execution_count": 23,
     "metadata": {},
     "output_type": "execute_result"
    }
   ],
   "source": [
    "t(50,71.3,0.0028,20)"
   ]
  },
  {
   "cell_type": "code",
   "execution_count": 24,
   "metadata": {},
   "outputs": [
    {
     "ename": "NameError",
     "evalue": "name 'tiempo' is not defined",
     "output_type": "error",
     "traceback": [
      "\u001b[1;31m---------------------------------------------------------------------------\u001b[0m",
      "\u001b[1;31mNameError\u001b[0m                                 Traceback (most recent call last)",
      "\u001b[1;32m<ipython-input-24-ce93703d3050>\u001b[0m in \u001b[0;36m<module>\u001b[1;34m\u001b[0m\n\u001b[0;32m      1\u001b[0m \u001b[0mtempt\u001b[0m\u001b[1;33m=\u001b[0m\u001b[0mnp\u001b[0m\u001b[1;33m.\u001b[0m\u001b[0mlinspace\u001b[0m\u001b[1;33m(\u001b[0m\u001b[1;36m0\u001b[0m\u001b[1;33m,\u001b[0m\u001b[1;36m250\u001b[0m\u001b[1;33m,\u001b[0m\u001b[1;36m1000\u001b[0m\u001b[1;33m)\u001b[0m\u001b[1;33m\u001b[0m\u001b[1;33m\u001b[0m\u001b[0m\n\u001b[1;32m----> 2\u001b[1;33m \u001b[0mplt\u001b[0m\u001b[1;33m.\u001b[0m\u001b[0mplot\u001b[0m\u001b[1;33m(\u001b[0m\u001b[0mtiempo\u001b[0m\u001b[1;33m,\u001b[0m\u001b[0mt\u001b[0m\u001b[1;33m(\u001b[0m\u001b[0mtempt\u001b[0m\u001b[1;33m,\u001b[0m\u001b[1;36m71.3\u001b[0m\u001b[1;33m,\u001b[0m\u001b[1;36m0.0028\u001b[0m\u001b[1;33m,\u001b[0m\u001b[1;36m20\u001b[0m\u001b[1;33m)\u001b[0m\u001b[1;33m,\u001b[0m\u001b[0mlabel\u001b[0m\u001b[1;33m=\u001b[0m\u001b[1;34m'Temperatura'\u001b[0m\u001b[1;33m)\u001b[0m\u001b[1;33m\u001b[0m\u001b[1;33m\u001b[0m\u001b[0m\n\u001b[0m\u001b[0;32m      3\u001b[0m \u001b[0mplt\u001b[0m\u001b[1;33m.\u001b[0m\u001b[0mlegend\u001b[0m\u001b[1;33m(\u001b[0m\u001b[0mloc\u001b[0m\u001b[1;33m=\u001b[0m\u001b[1;34m'best'\u001b[0m\u001b[1;33m)\u001b[0m\u001b[1;33m\u001b[0m\u001b[1;33m\u001b[0m\u001b[0m\n\u001b[0;32m      4\u001b[0m \u001b[0mplt\u001b[0m\u001b[1;33m.\u001b[0m\u001b[0mxlabel\u001b[0m\u001b[1;33m(\u001b[0m\u001b[1;34m'tiempo'\u001b[0m\u001b[1;33m)\u001b[0m\u001b[1;33m\u001b[0m\u001b[1;33m\u001b[0m\u001b[0m\n\u001b[0;32m      5\u001b[0m \u001b[0mplt\u001b[0m\u001b[1;33m.\u001b[0m\u001b[0mgrid\u001b[0m\u001b[1;33m(\u001b[0m\u001b[1;33m)\u001b[0m\u001b[1;33m\u001b[0m\u001b[1;33m\u001b[0m\u001b[0m\n",
      "\u001b[1;31mNameError\u001b[0m: name 'tiempo' is not defined"
     ]
    }
   ],
   "source": [
    "tempt=np.linspace(0,250,1000)\n",
    "plt.plot(tiempo,t(tempt,71.3,0.0028,20),label='Temperatura')\n",
    "plt.legend(loc='best')\n",
    "plt.xlabel('tiempo')\n",
    "plt.grid()"
   ]
  },
  {
   "cell_type": "code",
   "execution_count": 21,
   "metadata": {},
   "outputs": [
    {
     "data": {
      "text/plain": [
       "0.0028"
      ]
     },
     "execution_count": 21,
     "metadata": {},
     "output_type": "execute_result"
    }
   ],
   "source": [
    "k"
   ]
  },
  {
   "cell_type": "code",
   "execution_count": 23,
   "metadata": {},
   "outputs": [
    {
     "data": {
      "text/plain": [
       "20"
      ]
     },
     "execution_count": 23,
     "metadata": {},
     "output_type": "execute_result"
    }
   ],
   "source": [
    "T0"
   ]
  },
  {
   "cell_type": "code",
   "execution_count": 26,
   "metadata": {},
   "outputs": [],
   "source": [
    "def Tt(t,Tf):\n",
    "    return T0+(Tf-T0)*np.exp(-k*t)\n",
    "sol2=solve_ivp(Tt,(71.3,1000),[0.2],max_step=0.01)"
   ]
  },
  {
   "cell_type": "code",
   "execution_count": 26,
   "metadata": {},
   "outputs": [
    {
     "data": {
      "text/plain": [
       "  message: 'The solver successfully reached the end of the integration interval.'\n",
       "     nfev: 557228\n",
       "     njev: 0\n",
       "      nlu: 0\n",
       "      sol: None\n",
       "   status: 0\n",
       "  success: True\n",
       "        t: array([  71.3 ,   71.31,   71.32, ...,  999.99, 1000.  , 1000.  ])\n",
       " t_events: None\n",
       "        y: array([[2.00000000e-001, 2.37990569e-001, 2.76298111e-001, ...,\n",
       "        1.88488173e+118, 1.88602829e+118, 1.88602829e+118]])\n",
       " y_events: None"
      ]
     },
     "execution_count": 26,
     "metadata": {},
     "output_type": "execute_result"
    }
   ],
   "source": [
    "sol2"
   ]
  },
  {
   "cell_type": "code",
   "execution_count": 27,
   "metadata": {},
   "outputs": [
    {
     "data": {
      "text/plain": [
       "array([[2.00000000e-001, 2.37990569e-001, 2.76298111e-001, ...,\n",
       "        1.88488173e+118, 1.88602829e+118, 1.88602829e+118]])"
      ]
     },
     "execution_count": 27,
     "metadata": {},
     "output_type": "execute_result"
    }
   ],
   "source": [
    "sol2.y"
   ]
  },
  {
   "cell_type": "code",
   "execution_count": 29,
   "metadata": {},
   "outputs": [
    {
     "data": {
      "image/png": "[encoded data removed]",
      "text/plain": [
       "<Figure size 432x288 with 1 Axes>"
      ]
     },
     "metadata": {
      "needs_background": "light"
     },
     "output_type": "display_data"
    }
   ],
   "source": [
    "plt.plot(sol2.t,sol2.y[0,:],label='Solución numérica',lw=4) # lw=linewidth\n",
    "plt.plot(sol2.t,t(sol2.t,71.3,0.0028,20),label='Solución analítica')\n",
    "plt.legend(loc='best')\n",
    "plt.\n",
    "plt.grid()"
   ]
  },
  {
   "cell_type": "markdown",
   "metadata": {},
   "source": [
    "### Interpretación de resultados \n",
    "\n",
    "Se obtuvo la solución análitica de la ecuación diferencial que se presenta en la Ley de enfriamiento de Newton, obteniendo:\n",
    "\n",
    "$$𝑇(𝑡)= 𝐶_1 𝑒^{𝑘𝑡} + 𝑇𝑎$$\n",
    "\n",
    "A partir del planteamiento del problema, que es el calentamiento y enfriamiento de una placa de aluminio, con las siguientes condiciones iniciales:\n",
    "\n",
    " 𝑇𝑓=71.3°𝐶,  𝑡=1000𝑠 ,  𝑇=23.2°𝐶 , T0=20°C y k desconocida\n",
    " \n",
    " Se realiza el procedimiento correspondiente para el calculo de k y se obtiene $k=0.0028$\n",
    " \n",
    " Se plantea la relación de la ecuación con la solución analítica y se obtuvo la siguiente ecuación:\n",
    " \n",
    " $$𝑇(𝑡) = 20 + 51.3𝑒^{−0.0028𝑡} .... ec 1$$\n",
    " \n",
    " Se aplica a lo obtenido el calculo del tiempo correspondiente cuando la placa se encuentra a $50°C$ y se obtiene $191 s$\n",
    " \n",
    " Se obtuvo del despeje de la ec 1 y se obtuvo:\n",
    " \n",
    " $$t = \\frac{-1}{k}ln\\frac{T(t)-T_0}{T_f-T_0}$$\n",
    " \n",
    " Al realizar las graficas de la solución numérica y analítica respecto al estado de enfriamiento y calentamiento de la placa de aluminio, se puede observar en la primer grafica que hay un decrecimiento de la temperatura respecto al tiempo, lo que nos indica que se encuentra en proceso de enfriamiento la placa.\n",
    " \n",
    " En la segunda gráfica se puede observar que hay un crecimiento exponencial respecto al tiempo de la temperatura,también sepueve ver el comportamiento constante del calentamiento hasta cierto tiempo en donde hay crecimiento, ésta gráfica es del calentamiento de la placa."
   ]
  },
  {
   "cell_type": "markdown",
   "metadata": {},
   "source": [
    "### Conclusión\n",
    "\n",
    "Se puede concluir que la Ley de enfriamiento de Newton no únicamente aplica al flujo de calor en fluidos sino también en sólidos de ciertos metales semiconductores o conductores, en este caso analizando una placa de metal.\n",
    "\n",
    "El comportamiento de las graficas concuerda con el proceso del flujo del calor en un enfriamiento y un calentamiento, las soluciones obtenidas desde la analítica como la numérica concuerdan con el modelo matemático del problema planteado.\n",
    "\n",
    "Se aplicaron los conocimientos que se han obtenido a lo largo del curso, se obtuvo la solución analítica de la ecuación diferencial a partir de la librería de sympy y la solución númerica a partir de ecucaciones aplicadas y de solve.vip.\n",
    "\n",
    "Se genero la interpretación de los resultados obtenidos de la simulación. "
   ]
  },
  {
   "cell_type": "markdown",
   "metadata": {},
   "source": [
    "### Referencias\n",
    "\n",
    "Gil S., Mayochi M., Pelliza L. J., Experimental estimation of the luminosity of the Sun. Am. J. Phys. 74 (8) August 2006, pp. 728-733"
   ]
  }
 ],
 "metadata": {
  "kernelspec": {
   "display_name": "Python 3",
   "language": "python",
   "name": "python3"
  },
  "language_info": {
   "codemirror_mode": {
    "name": "ipython",
    "version": 3
   },
   "file_extension": ".py",
   "mimetype": "text/x-python",
   "name": "python",
   "nbconvert_exporter": "python",
   "pygments_lexer": "ipython3",
   "version": "3.8.3"
  }
 },
 "nbformat": 4,
 "nbformat_minor": 4
}
