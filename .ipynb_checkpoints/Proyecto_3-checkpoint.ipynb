{
 "cells": [
  {
   "cell_type": "markdown",
   "metadata": {},
   "source": [
    "<img style=\"float: center\" src=\"https://arrupesj.files.wordpress.com/2015/06/4.jpg\" width=\"350px\" height=\"125px\" />\n",
    "\n",
    "\n",
    "# $$Proyecto$$\n",
    "### $$Ley de enfriamiento deNewton.$$\n",
    "#### $$Profesor: Carlos Arellano Muro$$\n",
    "#### $$Equipo: $$\n",
    "#### $$Diamante del Cielo Gutierrez Nandayapa - nt709910$$\n",
    "#### $$Isaura Rodriguez Navarro - nt713994$$\n",
    "##### $$Fecha: 03 de diciembre de 2020$$"
   ]
  },
  {
   "cell_type": "markdown",
   "metadata": {},
   "source": [
    "### Objetivos\n",
    "> #### 1.1 Objetivos generales.\n",
    ">  - Aplicar los conocimientos aprendidos en la materia en resolución de ecuaciones diferenciales.\n",
    "\n",
    ">  - Comprender la Ley de enfriamiento de Newton\n",
    "\n",
    "> #### 1.1 Objetivos específicos.#\n",
    "\n",
    ">  - Obtener la solución analítica utilizando la librería sympy\n",
    ">  - Obtener la solución númerica con la función solve_ivp\n",
    ">  - Interpretar los resultados obtenidos."
   ]
  },
  {
   "cell_type": "markdown",
   "metadata": {},
   "source": [
    "## $$Planteamiento$$"
   ]
  },
  {
   "cell_type": "markdown",
   "metadata": {},
   "source": [
    "La razón de cambio de temperatura de un objetivo, es proporcional a la difrencia de su temperatura y la del ambiente.\n",
    "\n",
    "$T(t)$: Temperatura del objeto en t\n",
    "\n",
    "$T_A$: Temperatura Ambiente (constante)\n",
    "\n",
    "$T'(t)$ : Razón de cambio de la temperatura  \n",
    "\n",
    "$$T'(t) = k(T(t)-T_A)$$\n",
    "\n",
    "$$T'=k(T-T_A)$$\n",
    "\n",
    "\\begin{equation}\n",
    "\\frac{dT}{dt} = {k}(T-T_A)\n",
    "\\end{equation}\n",
    "\n"
   ]
  },
  {
   "cell_type": "code",
   "execution_count": 3,
   "metadata": {},
   "outputs": [],
   "source": [
    "import sympy as sym\n",
    "from scipy.integrate import solve_ivp\n",
    "import matplotlib.pyplot as plt\n",
    "import numpy as np\n",
    "from ipywidgets import *"
   ]
  },
  {
   "cell_type": "markdown",
   "metadata": {},
   "source": [
    " **Se obtiene la solución analítica**"
   ]
  },
  {
   "cell_type": "code",
   "execution_count": 2,
   "metadata": {},
   "outputs": [
    {
     "data": {
      "text/latex": [
       "$\\displaystyle T{\\left(t \\right)} = C_{1} e^{k t} + Ta$"
      ],
      "text/plain": [
       "Eq(T(t), C1*exp(k*t) + Ta)"
      ]
     },
     "execution_count": 2,
     "metadata": {},
     "output_type": "execute_result"
    }
   ],
   "source": [
    "sym.var('t') \n",
    "sym.var('k')\n",
    "sym.var('Ta')\n",
    "T=sym.Function('T')\n",
    "eq=sym.Derivative(T(t),t)-k*(T(t)-Ta) \n",
    "solucion=sym.dsolve(eq,T(t))\n",
    "solucion"
   ]
  },
  {
   "cell_type": "markdown",
   "metadata": {},
   "source": []
  },
  {
   "cell_type": "code",
   "execution_count": null,
   "metadata": {},
   "outputs": [],
   "source": []
  },
  {
   "cell_type": "code",
   "execution_count": null,
   "metadata": {},
   "outputs": [],
   "source": []
  },
  {
   "cell_type": "code",
   "execution_count": null,
   "metadata": {},
   "outputs": [],
   "source": []
  },
  {
   "cell_type": "markdown",
   "metadata": {},
   "source": [
    "### Interpretación de resultados "
   ]
  },
  {
   "cell_type": "markdown",
   "metadata": {},
   "source": [
    "### Conclusión"
   ]
  },
  {
   "cell_type": "markdown",
   "metadata": {},
   "source": [
    "### Referencias"
   ]
  },
  {
   "cell_type": "code",
   "execution_count": null,
   "metadata": {},
   "outputs": [],
   "source": []
  }
 ],
 "metadata": {
  "kernelspec": {
   "display_name": "Python 3",
   "language": "python",
   "name": "python3"
  },
  "language_info": {
   "codemirror_mode": {
    "name": "ipython",
    "version": 3
   },
   "file_extension": ".py",
   "mimetype": "text/x-python",
   "name": "python",
   "nbconvert_exporter": "python",
   "pygments_lexer": "ipython3",
   "version": "3.8.3"
  }
 },
 "nbformat": 4,
 "nbformat_minor": 4
}
