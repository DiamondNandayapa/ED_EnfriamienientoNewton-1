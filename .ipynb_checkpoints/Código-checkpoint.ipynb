{
 "cells": [
  {
   "cell_type": "markdown",
   "metadata": {},
   "source": [
    "# Proyecto Módulo 3 Ecuaciones diferenciales \n",
    " ### Diamante del cielo Gutiérrez Nandayapa\n",
    " ### Isaura Rodríguez Navarro"
   ]
  },
  {
   "cell_type": "markdown",
   "metadata": {},
   "source": [
    "# Ley de enfriamineto de Newton\n",
    "\\begin{equation}\n",
    "\\frac{dT}{dt} = {k}(T-T_A)\n",
    "\\end{equation}\n",
    "Solución analítica de la ecuación con sympy "
   ]
  },
  {
   "cell_type": "code",
   "execution_count": 5,
   "metadata": {},
   "outputs": [],
   "source": [
    "import sympy as sym"
   ]
  },
  {
   "cell_type": "code",
   "execution_count": 7,
   "metadata": {},
   "outputs": [
    {
     "data": {
      "text/latex": [
       "$\\displaystyle T{\\left(t \\right)} = C_{1} e^{k t} + Ta$"
      ],
      "text/plain": [
       "Eq(T(t), C1*exp(k*t) + Ta)"
      ]
     },
     "execution_count": 7,
     "metadata": {},
     "output_type": "execute_result"
    }
   ],
   "source": [
    "sym.var('t') \n",
    "sym.var('k')\n",
    "sym.var('Ta')\n",
    "T=sym.Function('T')\n",
    "eq=sym.Derivative(T(t),t)-k*(T(t)-Ta) \n",
    "solucion=sym.dsolve(eq,T(t))\n",
    "solucion"
   ]
  },
  {
   "cell_type": "code",
   "execution_count": null,
   "metadata": {},
   "outputs": [],
   "source": []
  }
 ],
 "metadata": {
  "kernelspec": {
   "display_name": "Python 3",
   "language": "python",
   "name": "python3"
  },
  "language_info": {
   "codemirror_mode": {
    "name": "ipython",
    "version": 3
   },
   "file_extension": ".py",
   "mimetype": "text/x-python",
   "name": "python",
   "nbconvert_exporter": "python",
   "pygments_lexer": "ipython3",
   "version": "3.8.3"
  }
 },
 "nbformat": 4,
 "nbformat_minor": 4
}
